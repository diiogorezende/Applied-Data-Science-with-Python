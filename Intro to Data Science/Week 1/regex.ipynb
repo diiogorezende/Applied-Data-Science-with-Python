{
 "cells": [
  {
   "cell_type": "markdown",
   "id": "fa20ec8f",
   "metadata": {},
   "source": [
    "Vamos aprender um pouco sobre correspondencia de padroes em strings usando Regex. Regex sao escritas em um formato condensado. Em geral, podemos pensar em um regex como um padrao que fornecemos a um processador regex com algum tipo de dado. Entao, o processador passa esse dado usando um padrao, e retorna algum texto para manipulacao.\n",
    "Algumas razoes para utilizarmos regex:\n",
    "- Checar se um padrao existe em uma fonte de dado;\n",
    "- Para obter as instancias de um padrao complexo de alguns dados;\n",
    "- Limpar alguns dados usando o padrao, a partir de string splitting.<br>\n",
    "<br>Regex eh fundamental para limpeza de dados"
   ]
  },
  {
   "cell_type": "code",
   "execution_count": 1,
   "id": "a42bd570",
   "metadata": {},
   "outputs": [],
   "source": [
    "# Importando o re\n",
    "import re"
   ]
  },
  {
   "cell_type": "code",
   "execution_count": 2,
   "id": "e954a18d",
   "metadata": {},
   "outputs": [
    {
     "name": "stdout",
     "output_type": "stream",
     "text": [
      "Fique em casa.\n"
     ]
    }
   ],
   "source": [
    "# match() verifica se uma correspondencia de padrao esta no inicio da string e retorna um booleano.\n",
    "# search() verifica se uma correspondencia de padrao esta em qualquer lugar na string e retorna um booleano.\n",
    "text = 'Hoje esta chovendo em Porto Alegre'\n",
    "\n",
    "# Verificar se eh um dia chuvoso.\n",
    "if re.search('chov', text): # primeiro parametro\n",
    "    print('Fique em casa.')\n",
    "else:\n",
    "    print('Faca um passeio.')"
   ]
  },
  {
   "cell_type": "code",
   "execution_count": 3,
   "id": "6e51965b",
   "metadata": {},
   "outputs": [
    {
     "name": "stdout",
     "output_type": "stream",
     "text": [
      "['', ' dorme cedo. ', ' estuda. ', ' le livros. ', ' bebe chimarrao.']\n"
     ]
    },
    {
     "data": {
      "text/plain": [
       "['Diogo', 'Diogo', 'Diogo', 'Diogo']"
      ]
     },
     "execution_count": 3,
     "metadata": {},
     "output_type": "execute_result"
    }
   ],
   "source": [
    "# Eh possivel realizar tockenizacao, ou seja, quebrar uma string em pedacos.\n",
    "text = 'Diogo dorme cedo. Diogo estuda. Diogo le livros. Diogo bebe chimarrao.'\n",
    "\n",
    "# Vamos quebrar essa sentenca em framentos usando a funcao \"split()\".\n",
    "print(re.split('Diogo', text))\n",
    "\n",
    "# Se quisermos contar quantas vezes o nome \"Diogo\" foi citado, podemos usar a funcao \"findall()\"\n",
    "re.findall('Diogo', text)"
   ]
  },
  {
   "cell_type": "code",
   "execution_count": 4,
   "id": "ce77a374",
   "metadata": {},
   "outputs": [
    {
     "name": "stdout",
     "output_type": "stream",
     "text": [
      "Comeca\n",
      "Nao termina\n"
     ]
    }
   ],
   "source": [
    "# Ate agora vimos o basico sobre regex. Vamos avancar um pouco agora para padroes mais complexos.\n",
    "# Existem algumas especificacoes padrao no regex, como os Anchors.\n",
    "# Anchors especificam o inicio e/ou final de uma string que estamos tentando encontrar a correspondencia.\n",
    "# O caracter \"^\" significa inicio, enquanto o caracter \"$\" significa o fim. Se colocarmos \"^\" depois de uma string, significa\n",
    "# que o texto que sera retornado pelo processador regex precisa COMECAR com a string que especificamos.\n",
    "# Para o final, precisamos colocar o sinal de \"$\", que significa que o texto retornado pelo processador regex precisa\n",
    "# TERMINAR com a string que especificamos.\n",
    "\n",
    "# Ex:\n",
    "text = 'Diogo dorme cedo. Diogo le livros. Diogo bebe chimarrao. Para aprimorar suas habilidades, Diogo estuda.'\n",
    "\n",
    "# Verificar se comeca com Diogo.\n",
    "if re.search('^Diogo', text):\n",
    "    print('Comeca')\n",
    "else:\n",
    "    print('Nao comeca')\n",
    "\n",
    "# Verificar se termina com \"Diogo\"\n",
    "if re.search('Diogo$', text):\n",
    "    print('Termina')\n",
    "else:\n",
    "    print('Nao termina')"
   ]
  },
  {
   "cell_type": "code",
   "execution_count": 5,
   "id": "82e69757",
   "metadata": {},
   "outputs": [
    {
     "name": "stdout",
     "output_type": "stream",
     "text": [
      "27\n"
     ]
    }
   ],
   "source": [
    "# Vamos a outro exemplo\n",
    "# Quantos carros fabricados pela volkswagen possui esse dataset?\n",
    "import pandas as pd\n",
    "\n",
    "cars = pd.read_csv('mpg.csv')\n",
    "\n",
    "contador = 0\n",
    "for car in cars['manufacturer']:\n",
    "    car = str(car)\n",
    "    if re.search('volkswagen', car):\n",
    "        contador += 1\n",
    "print(contador)"
   ]
  },
  {
   "cell_type": "markdown",
   "id": "68cfb1d5",
   "metadata": {},
   "source": [
    "### Padroes e Classes de caracter."
   ]
  },
  {
   "cell_type": "code",
   "execution_count": 6,
   "id": "34df1bea",
   "metadata": {},
   "outputs": [
    {
     "data": {
      "text/plain": [
       "['A', 'A', 'B', 'A', 'A', 'B', 'B', 'B', 'B', 'A', 'A', 'B']"
      ]
     },
     "execution_count": 6,
     "metadata": {},
     "output_type": "execute_result"
    }
   ],
   "source": [
    "# Vamos criar uma string com algumas notas.\n",
    "grades = 'AABCCCAABBBBCCAAB'\n",
    "\n",
    "# Quantos B's existem nessa lista?\n",
    "re.findall('B', grades)\n",
    "\n",
    "# Se quisermos contar os A's e B's em uma lista, nao podemos passas \"AB\" para fazer a correspondencia.\n",
    "# Para fazer a busca de forma correta, precisamos passar A e B em colchetes.\n",
    "re.findall('[AB]', grades)"
   ]
  },
  {
   "cell_type": "code",
   "execution_count": 7,
   "id": "5695f02f",
   "metadata": {},
   "outputs": [
    {
     "name": "stdout",
     "output_type": "stream",
     "text": [
      "['AB', 'AB', 'AB']\n",
      "['AB', 'AB', 'AB']\n"
     ]
    }
   ],
   "source": [
    "# Podemos tambem definir um range de caracteres, que serao ordenados de forma alfanumerica. Por exemplo, se quisermos\n",
    "# nos referir a todos os caracteres alfabeticos minusculos, poderiamo usar \"[a-z]\"\n",
    "\n",
    "# Vamos verificar onde o aluno recebeu um A seguido de um B ou C.\n",
    "print(re.findall(\"[A][B-C]\", grades))\n",
    "\n",
    "# Podemos fazer a mesma operacao com operador pipe (OR).\n",
    "print(re.findall(\"AB|AC\", grades))"
   ]
  },
  {
   "cell_type": "code",
   "execution_count": 8,
   "id": "7e6ab985",
   "metadata": {},
   "outputs": [
    {
     "data": {
      "text/plain": [
       "['B', 'C', 'C', 'C', 'B', 'B', 'B', 'B', 'C', 'C', 'B']"
      ]
     },
     "execution_count": 8,
     "metadata": {},
     "output_type": "execute_result"
    }
   ],
   "source": [
    "# Podemos usar o sinal \"^\" para negar o resultado. Por exemplo, se quisermos apenas notas que nao foram A's.\n",
    "re.findall(\"[^A]\", grades)"
   ]
  },
  {
   "cell_type": "markdown",
   "id": "6753b17f",
   "metadata": {},
   "source": [
    "### Quantifiers"
   ]
  },
  {
   "cell_type": "code",
   "execution_count": 9,
   "id": "e14c7e88",
   "metadata": {},
   "outputs": [
    {
     "name": "stdout",
     "output_type": "stream",
     "text": [
      "17\n",
      "['AA', 'AA', 'AA']\n"
     ]
    }
   ],
   "source": [
    "# Quantificadores sao o numero de vezes que queremos que um padrao seja correspondido para corresponder.\n",
    "# O quantificador mais basico segue o formato \"e{m,n}\", onde e eh a expressao ou caracter que estamos buscando, m eh o\n",
    "# numero minimo de vezes que queremos, e n eh o numero maximo de vezes que o item pode ser correspondido.\n",
    "\n",
    "# Vamos ao exemplo das notas.\n",
    "print(len(grades)) # Possuimos 17 notas na variavel\n",
    "print(re.findall(\"A{2,17}\", grades)) # 2 para indicar que eh onde comeca uma sequencia, e 17 pois eh o numero maximo de notas."
   ]
  },
  {
   "cell_type": "markdown",
   "id": "819d52a8",
   "metadata": {},
   "source": [
    "- \" * \" Para encontrar 0 ou mais vezes\n",
    "- \" ? \" Para encontrar 0 ou 1\n",
    "- \" + \" Para encontrar 1 ou mais vezes"
   ]
  },
  {
   "cell_type": "code",
   "execution_count": 10,
   "id": "2bda2569",
   "metadata": {},
   "outputs": [
    {
     "data": {
      "text/plain": [
       "'Overview[edit]\\nFERPA gives parents access to their child\\'s education records, an opportunity to seek to have the records amended, and some control over the disclosure of information from the records. With several exceptions, schools must have a student\\'s consent prior to the disclosure of education records after that student is 18 years old. The law applies only to educational agencies and institutions that receive funds under a program administered by the U.S. Department of Education.\\n\\nOther regulations under this act, effective starting January 3, 2012, allow for greater disclosures of personal and directory student identifying information and regulate student IDs and e-mail addresses.[2] For example, schools may provide external companies with a student\\'s personally identifiable information without the student\\'s consent.[2]\\n\\nExamples of situations affected by FERPA include school employees divulging information to anyone other than the student about the student\\'s grades or behavior, and school work posted on a bulletin board with a grade. Generally, schools must have written permission from the parent or eligible student in order to release any information from a student\\'s education record.\\n\\nThis privacy policy also governs how state agencies transmit testing data to federal agencies, such as the Education Data Exchange Network.\\n\\nThis U.S. federal law also gave students 18 years of age or older, or students of any age if enrolled in any post-secondary educational institution, the right of privacy regarding grades, enrollment, and even billing information unless the school has specific permission from the student to share that specific type of information.\\n\\nFERPA also permits a school to disclose personally identifiable information from education records of an \"eligible student\" (a student age 18 or older or enrolled in a postsecondary institution at any age) to his or her parents if the student is a \"dependent student\" as that term is defined in Section 152 of the Internal Revenue Code. Generally, if either parent has claimed the student as a dependent on the parent\\'s most recent income tax statement, the school may non-consensually disclose the student\\'s education records to both parents.[3]\\n\\nThe law allowed students who apply to an educational institution such as graduate school permission to view recommendations submitted by others as part of the application. However, on standard application forms, students are given the option to waive this right.\\n\\nFERPA specifically excludes employees of an educational institution if they are not students.\\n\\nThe act is also referred to as the Buckley Amendment, for one of its proponents, Senator James L. Buckley of New York.\\n\\nAccess to public records[edit]\\nThe citing of FERPA to conceal public records that are not \"educational\" in nature has been widely criticized, including by the act\\'s primary Senate sponsor.[4] For example, in the Owasso Independent School District v. Falvo case, an important part of the debate was determining the relationship between peer-grading and \"education records\" as defined in FERPA. In the Court of Appeals, it was ruled that students placing grades on the work of other students made such work into an \"education record.\" Thus, peer-grading was determined as a violation of FERPA privacy policies because students had access to other students\\' academic performance without full consent.[5] However, when the case went to the Supreme Court, it was officially ruled that peer-grading was not a violation of FERPA. This is because a grade written on a student\\'s work does not become an \"education record\" until the teacher writes the final grade into a grade book.[6]\\n\\nStudent medical records[edit]\\nLegal experts have debated the issue of whether student medical records (for example records of therapy sessions with a therapist at an on-campus counseling center) might be released to the school administration under certain triggering events, such as when a student sued his college or university.[7][8]\\n\\nUsually, student medical treatment records will remain under the protection of FERPA, not the Health Insurance Portability and Accountability Act (HIPAA). This is due to the \"FERPA Exception\" written within HIPAA.[9]'"
      ]
     },
     "execution_count": 10,
     "metadata": {},
     "output_type": "execute_result"
    }
   ],
   "source": [
    "with open('ferpa.txt') as file:\n",
    "    wiki = file.read()\n",
    "\n",
    "wiki"
   ]
  },
  {
   "cell_type": "code",
   "execution_count": 11,
   "id": "88928335",
   "metadata": {},
   "outputs": [
    {
     "data": {
      "text/plain": [
       "['Overview[edit]', 'records[edit]', 'records[edit]']"
      ]
     },
     "execution_count": 11,
     "metadata": {},
     "output_type": "execute_result"
    }
   ],
   "source": [
    "# Vamos encontrar os cabecalhos deste texto.\n",
    "# Os cabecalhos comecam com seu respectivo nome, seguido da sentenca \"[edit]\"\n",
    "\n",
    "# O codigo abaixo, no entanto, vai retornar a ultima palavra do titulo.\n",
    "re.findall('\\w*\\[edit\\]', wiki)"
   ]
  },
  {
   "cell_type": "code",
   "execution_count": 15,
   "id": "c7772c77",
   "metadata": {},
   "outputs": [
    {
     "name": "stdout",
     "output_type": "stream",
     "text": [
      "['Overview[edit]', 'records[edit]', 'records[edit]']\n",
      "\n",
      "['Overview[edit]', 'records[edit]', 'records[edit]']\n"
     ]
    }
   ],
   "source": [
    "# Ao inves de utilizar a sentenca abaixo para percorrer por um numero determinado de aparicoes:\n",
    "print(re.findall('[\\w]{1,100}\\[edit\\]', wiki))\n",
    "\n",
    "print()\n",
    "\n",
    "# Podemos utilizar o seguinte codigo, de forma reduzida.\n",
    "print(re.findall('[\\w]*\\[edit\\]', wiki))"
   ]
  },
  {
   "cell_type": "code",
   "execution_count": 16,
   "id": "60fa226b",
   "metadata": {},
   "outputs": [
    {
     "data": {
      "text/plain": [
       "['Overview[edit]',\n",
       " 'Access to public records[edit]',\n",
       " 'Student medical records[edit]']"
      ]
     },
     "execution_count": 16,
     "metadata": {},
     "output_type": "execute_result"
    }
   ],
   "source": [
    "# Agora que reduzimos o codigo, podemos aprimora-lo um pouco. Eh possivel adicionar espacoes usando a barra de espaco.\n",
    "# Dessa forma, conseguimos pegar os titulos.\n",
    "re.findall('[\\w ]*\\[edit\\]', wiki)"
   ]
  },
  {
   "cell_type": "code",
   "execution_count": 18,
   "id": "bcfb8e09",
   "metadata": {},
   "outputs": [
    {
     "name": "stdout",
     "output_type": "stream",
     "text": [
      "Overview\n",
      "Access to public records\n",
      "Student medical records\n"
     ]
    }
   ],
   "source": [
    "# Podemos criar uma lista de titulos atraves do uso de iteracao\n",
    "for title in re.findall('[\\w ]*\\[edit\\]', wiki):\n",
    "    print(re.split('[\\[]', title)[0])"
   ]
  },
  {
   "cell_type": "markdown",
   "id": "8d181408",
   "metadata": {},
   "source": [
    "### Agrupando"
   ]
  },
  {
   "cell_type": "code",
   "execution_count": 20,
   "id": "d26911fe",
   "metadata": {},
   "outputs": [
    {
     "data": {
      "text/plain": [
       "[('Overview', '[edit]'),\n",
       " ('Access to public records', '[edit]'),\n",
       " ('Student medical records', '[edit]')]"
      ]
     },
     "execution_count": 20,
     "metadata": {},
     "output_type": "execute_result"
    }
   ],
   "source": [
    "# Podemos melhorar ainda mais essa busca usando Grupos. Grupos buscam diferentes tipos de padroes ao mesmo tempo\n",
    "# Para agrupar padroes precisamos trabalhar da seguinte forma:\n",
    "re.findall('([\\w ]*)(\\[edit\\])', wiki) # repare o uso do parentese.\n"
   ]
  },
  {
   "cell_type": "code",
   "execution_count": 21,
   "id": "efc7e7bf",
   "metadata": {},
   "outputs": [
    {
     "name": "stdout",
     "output_type": "stream",
     "text": [
      "('Overview', '[edit]')\n",
      "('Access to public records', '[edit]')\n",
      "('Student medical records', '[edit]')\n"
     ]
    }
   ],
   "source": [
    "# Podemos tambem iterar sobre os padros que buscamos encontrar.\n",
    "# Esse codigo retorna uma tupla do grupo.\n",
    "for item in re.finditer('([\\w ]*)(\\[edit\\])',wiki):\n",
    "    print(item.groups())"
   ]
  },
  {
   "cell_type": "code",
   "execution_count": 26,
   "id": "6bb64277",
   "metadata": {},
   "outputs": [
    {
     "name": "stdout",
     "output_type": "stream",
     "text": [
      "Overview\n",
      "Access to public records\n",
      "Student medical records\n"
     ]
    }
   ],
   "source": [
    "# Se quisermos obter um grupo especifico, podemos utilizar \"group(numero)\", onde \"group(0)\" eh a correspondencia completa\n",
    "# e qualquer outro numero eh a porcao de interesse.\n",
    "for item in re.finditer('([\\w ]*)(\\[edit\\])', wiki):\n",
    "    print(item.group(1))"
   ]
  },
  {
   "cell_type": "code",
   "execution_count": 27,
   "id": "84c7ca82",
   "metadata": {},
   "outputs": [
    {
     "name": "stdout",
     "output_type": "stream",
     "text": [
      "Overview\n",
      "Access to public records\n",
      "Student medical records\n"
     ]
    }
   ],
   "source": [
    "# Pode ser criado tambem um dicionario para verificar os padroes. A sintaxe utilizada eh:\n",
    "# (?P<nome>), onde o parentese representa o inicio do grupo, o \"?P\" representa a extensao, e <nome> representa\n",
    "# o dicionario.\n",
    "for item in re.finditer('(?P<title>[\\w ]*)(?P<edit_link>\\[edit\\])', wiki):\n",
    "    print(item.groupdict()['title'])"
   ]
  },
  {
   "cell_type": "markdown",
   "id": "2ca098b7",
   "metadata": {},
   "source": [
    "### Look-ahead e Look-behind"
   ]
  },
  {
   "cell_type": "code",
   "execution_count": 40,
   "id": "c8df7ea3",
   "metadata": {
    "scrolled": true
   },
   "outputs": [
    {
     "data": {
      "text/plain": [
       "'Buddhist universities and colleges in the United States\\nFrom Wikipedia, the free encyclopedia\\nJump to navigationJump to search\\n\\nThis article needs additional citations for verification. Please help improve this article by adding citations to reliable sources. Unsourced material may be challenged and removed.\\nFind sources: \"Buddhist universities and colleges in the United States\" – news · newspapers · books · scholar · JSTOR (December 2009) (Learn how and when to remove this template message)\\nThere are several Buddhist universities in the United States. Some of these have existed for decades and are accredited. Others are relatively new and are either in the process of being accredited or else have no formal accreditation. The list includes:\\n\\nDhammakaya Open University – located in Azusa, California, part of the Thai Wat Phra Dhammakaya[1]\\nDharmakirti College – located in Tucson, Arizona Now called Awam Tibetan Buddhist Institute (http://awaminstitute.org/)\\nDharma Realm Buddhist University – located in Ukiah, California\\nEwam Buddhist Institute – located in Arlee, Montana\\nNaropa University is located in Boulder, Colorado (Accredited by the Higher Learning Commission)\\nInstitute of Buddhist Studies – located in Berkeley, California\\nMaitripa College – located in Portland, Oregon\\nSoka University of America – located in Aliso Viejo, California\\nUniversity of the West – located in Rosemead, California\\nWon Institute of Graduate Studies – located in Glenside, Pennsylvania\\nReferences[edit]\\n^ Banchanon, Phongphiphat (3 February 2015). รู้จัก \"เครือข่ายธรรมกาย\" [Getting to know the Dhammakaya network]. Forbes Thailand (in Thai). Retrieved 11 November 2016.\\nExternal links[edit]\\nList of Buddhist Universities and Colleges in the world\\n'"
      ]
     },
     "execution_count": 40,
     "metadata": {},
     "output_type": "execute_result"
    }
   ],
   "source": [
    "with open('buddhist.txt','r', encoding='utf-8') as file:\n",
    "    wiki = file.read()\n",
    "wiki"
   ]
  },
  {
   "cell_type": "code",
   "execution_count": 41,
   "id": "00f7aaff",
   "metadata": {},
   "outputs": [
    {
     "name": "stdout",
     "output_type": "stream",
     "text": [
      "{'title': 'Dhammakaya Open University ', 'city': 'Azusa', 'state': 'California'}\n",
      "{'title': 'Dharmakirti College ', 'city': 'Tucson', 'state': 'Arizona'}\n",
      "{'title': 'Dharma Realm Buddhist University ', 'city': 'Ukiah', 'state': 'California'}\n",
      "{'title': 'Ewam Buddhist Institute ', 'city': 'Arlee', 'state': 'Montana'}\n",
      "{'title': 'Institute of Buddhist Studies ', 'city': 'Berkeley', 'state': 'California'}\n",
      "{'title': 'Maitripa College ', 'city': 'Portland', 'state': 'Oregon'}\n",
      "{'title': 'University of the West ', 'city': 'Rosemead', 'state': 'California'}\n",
      "{'title': 'Won Institute of Graduate Studies ', 'city': 'Glenside', 'state': 'Pennsylvania'}\n"
     ]
    }
   ],
   "source": [
    "pattern=\"\"\"\n",
    "(?P<title>.*)\n",
    "(–\\ located\\ in\\ )\n",
    "(?P<city>\\w*) #igoiwen\n",
    "(,\\ ) #oisenioew\n",
    "(?P<state>\\w*)\n",
    "\"\"\"\n",
    "\n",
    "\n",
    "for item in re.finditer(pattern, wiki, re.VERBOSE):\n",
    "    print(item.groupdict())"
   ]
  }
 ],
 "metadata": {
  "kernelspec": {
   "display_name": "Python 3 (ipykernel)",
   "language": "python",
   "name": "python3"
  },
  "language_info": {
   "codemirror_mode": {
    "name": "ipython",
    "version": 3
   },
   "file_extension": ".py",
   "mimetype": "text/x-python",
   "name": "python",
   "nbconvert_exporter": "python",
   "pygments_lexer": "ipython3",
   "version": "3.11.5"
  }
 },
 "nbformat": 4,
 "nbformat_minor": 5
}
